{
 "cells": [
  {
   "cell_type": "code",
   "execution_count": null,
   "metadata": {},
   "outputs": [],
   "source": [
    "from mido import MidiFile, tick2second\n",
    "import numpy as np\n",
    "import matplotlib.pyplot as plt\n",
    "import IPython.display as ipd\n"
   ]
  },
  {
   "cell_type": "code",
   "execution_count": null,
   "metadata": {},
   "outputs": [],
   "source": [
    "mid = MidiFile(\"../Melody.mid\")"
   ]
  },
  {
   "cell_type": "code",
   "execution_count": null,
   "metadata": {},
   "outputs": [],
   "source": [
    "# Parse the notes from midi, changing timings from ticks to seconds\n",
    "\n",
    "tempo = 468750\n",
    "delta = 0  # Keep a running delta while looping over notes\n",
    "\n",
    "notes = []\n",
    "for msg in mid.tracks[1]:  # only process first track\n",
    "    delta += msg.time\n",
    "    if msg.type == 'note_on':\n",
    "        sec = tick2second(delta, mid.ticks_per_beat, tempo)\n",
    "        note = {'note': msg.note, 'time': sec}\n",
    "        notes.append(note)\n",
    "\n",
    "print(notes[:10])"
   ]
  },
  {
   "cell_type": "code",
   "execution_count": null,
   "metadata": {},
   "outputs": [],
   "source": [
    "SAMPLE_RATE = 44_100\n",
    "\n",
    "total_duration = max(notes, key=lambda x: x['time'])['time'] + 1  # add some space at the end for notes to play"
   ]
  },
  {
   "cell_type": "code",
   "execution_count": null,
   "metadata": {},
   "outputs": [],
   "source": [
    "# Generate the audio array (that is completely silent).\n",
    "# We will fill it later\n",
    "A = ..."
   ]
  },
  {
   "cell_type": "code",
   "execution_count": null,
   "metadata": {},
   "outputs": [],
   "source": [
    "# helper function\n",
    "def note_to_frequency(note, base_frequency=440):\n",
    "    return (base_frequency / 32) * (2 ** ((note - 9) / 12))"
   ]
  },
  {
   "cell_type": "code",
   "execution_count": null,
   "metadata": {},
   "outputs": [],
   "source": [
    "for note in notes:\n",
    "    frequency = note_to_frequency(note['note'])\n",
    "    \n",
    "    # Generate the audio\n",
    "    ...\n",
    "\n",
    "    # Insert the audio at the right time in the audio array A\n",
    "    ...\n"
   ]
  },
  {
   "cell_type": "code",
   "execution_count": null,
   "metadata": {},
   "outputs": [],
   "source": [
    "# Helper function so we can play np.ndarray as audio\n",
    "def convert_to_audio(y: np.ndarray) -> np.ndarray:\n",
    "    y *= 32767 / np.max(np.abs(y))\n",
    "    y = y.astype(np.int16)\n",
    "    return y"
   ]
  },
  {
   "cell_type": "code",
   "execution_count": null,
   "metadata": {},
   "outputs": [],
   "source": [
    "plt.plot(A)\n",
    "\n",
    "audio = convert_to_audio(A)\n",
    "ipd.Audio(audio, rate=SAMPLE_RATE)"
   ]
  },
  {
   "cell_type": "code",
   "execution_count": null,
   "metadata": {},
   "outputs": [],
   "source": []
  }
 ],
 "metadata": {
  "kernelspec": {
   "display_name": ".venv",
   "language": "python",
   "name": "python3"
  },
  "language_info": {
   "codemirror_mode": {
    "name": "ipython",
    "version": 3
   },
   "file_extension": ".py",
   "mimetype": "text/x-python",
   "name": "python",
   "nbconvert_exporter": "python",
   "pygments_lexer": "ipython3",
   "version": "3.11.0"
  },
  "orig_nbformat": 4,
  "vscode": {
   "interpreter": {
    "hash": "b59d9c5818544a0f1ef177fd55b258be4db56e96c8a608003639a4e5e7abcae2"
   }
  }
 },
 "nbformat": 4,
 "nbformat_minor": 2
}
