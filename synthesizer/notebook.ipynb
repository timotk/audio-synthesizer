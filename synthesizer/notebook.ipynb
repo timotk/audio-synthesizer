{
 "cells": [
  {
   "attachments": {},
   "cell_type": "markdown",
   "metadata": {},
   "source": [
    "# Audio Synthesis"
   ]
  },
  {
   "cell_type": "code",
   "execution_count": null,
   "metadata": {},
   "outputs": [],
   "source": [
    "import numpy as np\n",
    "import matplotlib.pyplot as plt\n",
    "import IPython.display as ipd\n",
    "from scipy.signal import butter, filtfilt,freqz, freqs, spectrogram"
   ]
  },
  {
   "cell_type": "code",
   "execution_count": null,
   "metadata": {},
   "outputs": [],
   "source": [
    "SAMPLE_RATE = 44_100  # See https://en.wikipedia.org/wiki/Sampling_(signal_processing)"
   ]
  },
  {
   "cell_type": "markdown",
   "metadata": {},
   "source": [
    "# Create a signal"
   ]
  },
  {
   "cell_type": "code",
   "execution_count": null,
   "metadata": {},
   "outputs": [],
   "source": [
    "duration = 1\n",
    "frequency = 440\n",
    "t = np.linspace(0, duration, num=int(duration * SAMPLE_RATE))\n",
    "y = np.sin(frequency * t * 2 * np.pi)\n"
   ]
  },
  {
   "cell_type": "markdown",
   "metadata": {},
   "source": [
    "# Plot the signal"
   ]
  },
  {
   "cell_type": "code",
   "execution_count": null,
   "metadata": {},
   "outputs": [],
   "source": [
    "single_cycle_end = int(\n",
    "    1/frequency * len(y)\n",
    ")\n",
    "\n",
    "single_cycle = y[:single_cycle_end]\n",
    "\n",
    "plt.plot(single_cycle);"
   ]
  },
  {
   "cell_type": "code",
   "execution_count": null,
   "metadata": {},
   "outputs": [],
   "source": [
    "# Plot the whole signal. Note that it will not be very clear because of the lack of resolution\n",
    "plt.plot(y[:1000]);"
   ]
  },
  {
   "cell_type": "markdown",
   "metadata": {},
   "source": [
    "# Plot the frequency response curve"
   ]
  },
  {
   "cell_type": "code",
   "execution_count": null,
   "metadata": {},
   "outputs": [],
   "source": [
    "def plot_frequency_response(y: np.ndarray):\n",
    "    plt.magnitude_spectrum(y, Fs=SAMPLE_RATE, scale='dB')\n",
    "    plt.title(\"Frequency Response\")\n",
    "    plt.show()"
   ]
  },
  {
   "cell_type": "markdown",
   "metadata": {},
   "source": [
    "# Play the signal"
   ]
  },
  {
   "cell_type": "code",
   "execution_count": null,
   "metadata": {},
   "outputs": [],
   "source": [
    "# Helper function so we can play np.ndarray as audio\n",
    "def convert_to_audio(y):\n",
    "    y *= 32767 / np.max(np.abs(y))\n",
    "    y = y.astype(np.int16)\n",
    "    return y\n",
    "    "
   ]
  },
  {
   "cell_type": "code",
   "execution_count": null,
   "metadata": {},
   "outputs": [],
   "source": [
    "audio = convert_to_audio(y)\n",
    "ipd.Audio(audio, rate=SAMPLE_RATE)"
   ]
  },
  {
   "cell_type": "markdown",
   "metadata": {},
   "source": [
    "# Create an amplifier"
   ]
  },
  {
   "attachments": {},
   "cell_type": "markdown",
   "metadata": {},
   "source": [
    "### Create the attack envelope"
   ]
  },
  {
   "cell_type": "code",
   "execution_count": null,
   "metadata": {},
   "outputs": [],
   "source": [
    "# First, create the attack envelope. \n",
    "# Increase the signal from over a given duration\n",
    "attack = ...  # in seconds\n",
    "attack_amp = np.linspace(...)"
   ]
  },
  {
   "cell_type": "code",
   "execution_count": null,
   "metadata": {},
   "outputs": [],
   "source": [
    "# Combine the amplifier and the original signal\n",
    "amped_y = ...\n",
    "\n",
    "plt.plot(amped_y);"
   ]
  },
  {
   "cell_type": "markdown",
   "metadata": {},
   "source": [
    "### Implement Decay, Sustain and Release"
   ]
  },
  {
   "cell_type": "code",
   "execution_count": null,
   "metadata": {},
   "outputs": [],
   "source": [
    "# Now, do the same thing for Decay, Sustain and Release\n",
    "# Create one single envelope and combine it with the original signal"
   ]
  },
  {
   "attachments": {},
   "cell_type": "markdown",
   "metadata": {},
   "source": [
    "### Combine all envelopes into one"
   ]
  },
  {
   "cell_type": "code",
   "execution_count": null,
   "metadata": {},
   "outputs": [],
   "source": [
    "amp = np.concatenate([...])"
   ]
  },
  {
   "attachments": {},
   "cell_type": "markdown",
   "metadata": {},
   "source": [
    "### Amplify the original signal"
   ]
  },
  {
   "cell_type": "code",
   "execution_count": null,
   "metadata": {},
   "outputs": [],
   "source": [
    "amped_y = ..."
   ]
  },
  {
   "cell_type": "markdown",
   "metadata": {},
   "source": [
    "### Trim the audio (removing zeros at start and end)"
   ]
  },
  {
   "cell_type": "code",
   "execution_count": null,
   "metadata": {},
   "outputs": [],
   "source": [
    "amped_y = np.trim_zeros(amped_y)"
   ]
  },
  {
   "attachments": {},
   "cell_type": "markdown",
   "metadata": {},
   "source": [
    "# Plot the amplified signal"
   ]
  },
  {
   "cell_type": "code",
   "execution_count": null,
   "metadata": {},
   "outputs": [],
   "source": [
    "plt.plot(amped_y);"
   ]
  },
  {
   "cell_type": "markdown",
   "metadata": {},
   "source": [
    "# Play the amplified audio"
   ]
  },
  {
   "cell_type": "code",
   "execution_count": null,
   "metadata": {},
   "outputs": [],
   "source": [
    "audio = convert_to_audio(amped_y)\n",
    "ipd.Audio(audio, rate=SAMPLE_RATE)"
   ]
  },
  {
   "cell_type": "markdown",
   "metadata": {},
   "source": [
    "# Filtering the audio"
   ]
  },
  {
   "cell_type": "code",
   "execution_count": 309,
   "metadata": {},
   "outputs": [],
   "source": [
    "def plot_filter(b, a, cutoff):\n",
    "    w, h = freqz(b, a, fs=SAMPLE_RATE)\n",
    "    plt.semilogx(w, 20 * np.log10(abs(h)))\n",
    "    plt.suptitle('Butterworth filter frequency response')\n",
    "    plt.title(\"Cutoff where signal reached -3 dB\")\n",
    "    plt.xlabel('Frequency [Hz]')\n",
    "    plt.ylabel('Amplitude [dB]')\n",
    "    plt.margins(0, 0.1)\n",
    "    plt.grid(which='both', axis='both')\n",
    "    plt.axvline(cutoff, color='green') # cutoff frequency\n",
    "    \n",
    "    plt.show()\n",
    "\n",
    "\n",
    "\n",
    "def butter_filter(data: np.ndarray, cutoff: float, order: int = 2, filter_type: str = 'lowpass', plot=False) -> np.ndarray:\n",
    "    nyquist_frequency = 0.5 * SAMPLE_RATE\n",
    "    normal_cutoff = cutoff / nyquist_frequency\n",
    "\n",
    "    # Get the filter coefficients\n",
    "    b, a = butter(order, normal_cutoff, btype=filter_type, analog=False)\n",
    "\n",
    "    if plot:\n",
    "        plot_filter(b, a, cutoff)\n",
    "\n",
    "    # apply the filter to the signal\n",
    "    y = filtfilt(b, a, data)\n",
    "    return y"
   ]
  },
  {
   "cell_type": "code",
   "execution_count": 312,
   "metadata": {},
   "outputs": [
    {
     "data": {
      "image/png": "[encoded data removed]",
      "text/plain": [
       "<Figure size 640x480 with 1 Axes>"
      ]
     },
     "metadata": {},
     "output_type": "display_data"
    }
   ],
   "source": [
    "filter_frequency = 1000\n",
    "filtered_signal = butter_filter(y, cutoff=filter_frequency, plot=True)"
   ]
  },
  {
   "cell_type": "code",
   "execution_count": null,
   "metadata": {},
   "outputs": [],
   "source": []
  }
 ],
 "metadata": {
  "kernelspec": {
   "display_name": ".venv",
   "language": "python",
   "name": "python3"
  },
  "language_info": {
   "codemirror_mode": {
    "name": "ipython",
    "version": 3
   },
   "file_extension": ".py",
   "mimetype": "text/x-python",
   "name": "python",
   "nbconvert_exporter": "python",
   "pygments_lexer": "ipython3",
   "version": "3.11.0"
  },
  "orig_nbformat": 4,
  "vscode": {
   "interpreter": {
    "hash": "b59d9c5818544a0f1ef177fd55b258be4db56e96c8a608003639a4e5e7abcae2"
   }
  }
 },
 "nbformat": 4,
 "nbformat_minor": 2
}
